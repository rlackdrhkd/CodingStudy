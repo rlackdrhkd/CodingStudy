{
 "cells": [
  {
   "cell_type": "markdown",
   "id": "88f75861-3911-4556-81b2-094933a035cc",
   "metadata": {},
   "source": [
    "# **텐서**"
   ]
  },
  {
   "cell_type": "code",
   "execution_count": null,
   "id": "45e788bf-89e0-4445-a5e7-36c818930e90",
   "metadata": {},
   "outputs": [],
   "source": [
    "import torch\n",
    "\n",
    "x = torch.tensor([[1, 2],[3, 4]])\n",
    "y = torch.zeros(2,3) # 0으로 채워진 2x3 탠서\n",
    "z = torch.randn(3,4) # 정규분포에서 샘플링된 3x4 텐서"
   ]
  },
  {
   "cell_type": "code",
   "execution_count": 7,
   "id": "dd0affcf-5f07-43f0-b1a5-847a88bf6912",
   "metadata": {},
   "outputs": [
    {
     "data": {
      "text/plain": [
       "tensor([[1, 2],\n",
       "        [3, 4]])"
      ]
     },
     "execution_count": 7,
     "metadata": {},
     "output_type": "execute_result"
    }
   ],
   "source": [
    "x"
   ]
  },
  {
   "cell_type": "code",
   "execution_count": 8,
   "id": "30ee57df-0e00-42e8-a588-e75e35cba823",
   "metadata": {},
   "outputs": [
    {
     "data": {
      "text/plain": [
       "tensor([[0., 0., 0.],\n",
       "        [0., 0., 0.]])"
      ]
     },
     "execution_count": 8,
     "metadata": {},
     "output_type": "execute_result"
    }
   ],
   "source": [
    "y"
   ]
  },
  {
   "cell_type": "code",
   "execution_count": 9,
   "id": "2baf4952-e5f9-4cc5-acf0-08f07fa3b509",
   "metadata": {},
   "outputs": [
    {
     "data": {
      "text/plain": [
       "tensor([[ 0.1204,  0.3982,  1.3321, -0.0167],\n",
       "        [ 1.3909,  0.0080,  0.0320,  0.2773],\n",
       "        [-0.7342,  0.2216, -0.5310,  0.1217]])"
      ]
     },
     "execution_count": 9,
     "metadata": {},
     "output_type": "execute_result"
    }
   ],
   "source": [
    "z"
   ]
  },
  {
   "cell_type": "markdown",
   "id": "6f04bff1-0868-4749-b78a-89ac82b71ae4",
   "metadata": {},
   "source": [
    "# **자동미분**"
   ]
  },
  {
   "cell_type": "code",
   "execution_count": 16,
   "id": "50b847bd-0451-4636-9afe-ab2e329cd324",
   "metadata": {},
   "outputs": [
    {
     "name": "stdout",
     "output_type": "stream",
     "text": [
      "tensor([[4.5000, 4.5000],\n",
      "        [4.5000, 4.5000]])\n"
     ]
    }
   ],
   "source": [
    "x = torch.ones(2, 2, requires_grad=True)\n",
    "y = x + 2\n",
    "z = y * y * 3\n",
    "out = z.mean()\n",
    "out.backward()\n",
    "print(x.grad)"
   ]
  },
  {
   "cell_type": "markdown",
   "id": "277c4d3e-0ce3-4259-861f-d31f43537421",
   "metadata": {},
   "source": [
    "# **nn.Module**"
   ]
  },
  {
   "cell_type": "code",
   "execution_count": 17,
   "id": "1a86a66e-2fab-4642-bece-0cab5b292e15",
   "metadata": {},
   "outputs": [],
   "source": [
    "import torch.nn as nn\n",
    "\n",
    "class SimpleNet(nn.Module):\n",
    "    def __init__(self):\n",
    "        super.__init__() # 상속되는 클래스 초기화하는 것임\n",
    "        self.fc1 = nn.Linear(784, 128)\n",
    "        self.fc2 = nn.Linear(128, 10)\n",
    "\n",
    "    def forward(self, x):\n",
    "        x = torch.relu(self.fc1(x))\n",
    "        return self.fc2(x)"
   ]
  },
  {
   "cell_type": "markdown",
   "id": "44cc2155-91ad-4fd7-b0b6-c29c9e50cd26",
   "metadata": {},
   "source": [
    "# **DataLoader**"
   ]
  },
  {
   "cell_type": "code",
   "execution_count": 18,
   "id": "69e221bd-74e0-4961-a9c9-f3f2bf60e08f",
   "metadata": {},
   "outputs": [
    {
     "ename": "NameError",
     "evalue": "name 'train_dataset' is not defined",
     "output_type": "error",
     "traceback": [
      "\u001b[0;31m---------------------------------------------------------------------------\u001b[0m",
      "\u001b[0;31mNameError\u001b[0m                                 Traceback (most recent call last)",
      "Cell \u001b[0;32mIn[18], line 4\u001b[0m\n\u001b[1;32m      1\u001b[0m \u001b[38;5;28;01mfrom\u001b[39;00m \u001b[38;5;21;01mtorch\u001b[39;00m\u001b[38;5;21;01m.\u001b[39;00m\u001b[38;5;21;01mutils\u001b[39;00m\u001b[38;5;21;01m.\u001b[39;00m\u001b[38;5;21;01mdata\u001b[39;00m \u001b[38;5;28;01mimport\u001b[39;00m Dataset, DataLoader\n\u001b[1;32m      3\u001b[0m train_loader \u001b[38;5;241m=\u001b[39m DataLoader(\n\u001b[0;32m----> 4\u001b[0m     \u001b[43mtrain_dataset\u001b[49m,\n\u001b[1;32m      5\u001b[0m     batch_size\u001b[38;5;241m=\u001b[39m\u001b[38;5;241m32\u001b[39m,\n\u001b[1;32m      6\u001b[0m     shuffle\u001b[38;5;241m=\u001b[39m\u001b[38;5;28;01mTrue\u001b[39;00m,\n\u001b[1;32m      7\u001b[0m     num_workers\u001b[38;5;241m=\u001b[39m\u001b[38;5;241m4\u001b[39m\n\u001b[1;32m      8\u001b[0m )\n",
      "\u001b[0;31mNameError\u001b[0m: name 'train_dataset' is not defined"
     ]
    }
   ],
   "source": [
    "from torch.utils.data import Dataset, DataLoader\n",
    "\n",
    "train_loader = DataLoader(\n",
    "    train_dataset,\n",
    "    batch_size=32,\n",
    "    shuffle=True,\n",
    "    num_workers=4\n",
    ")"
   ]
  },
  {
   "cell_type": "markdown",
   "id": "00da3bb2-fb03-4732-adfa-24ea16025baa",
   "metadata": {},
   "source": [
    "# **Optimizer**"
   ]
  },
  {
   "cell_type": "code",
   "execution_count": 21,
   "id": "70742add-0916-4bb9-92a3-f11a3a8e050e",
   "metadata": {},
   "outputs": [
    {
     "ename": "NameError",
     "evalue": "name 'model' is not defined",
     "output_type": "error",
     "traceback": [
      "\u001b[0;31m---------------------------------------------------------------------------\u001b[0m",
      "\u001b[0;31mNameError\u001b[0m                                 Traceback (most recent call last)",
      "Cell \u001b[0;32mIn[21], line 3\u001b[0m\n\u001b[1;32m      1\u001b[0m \u001b[38;5;28;01mimport\u001b[39;00m \u001b[38;5;21;01mtorch\u001b[39;00m\u001b[38;5;21;01m.\u001b[39;00m\u001b[38;5;21;01moptim\u001b[39;00m \u001b[38;5;28;01mas\u001b[39;00m \u001b[38;5;21;01moptim\u001b[39;00m\n\u001b[0;32m----> 3\u001b[0m optimizer \u001b[38;5;241m=\u001b[39m optim\u001b[38;5;241m.\u001b[39mAdam(\u001b[43mmodel\u001b[49m\u001b[38;5;241m.\u001b[39mparametrers(), lr\u001b[38;5;241m=\u001b[39m\u001b[38;5;241m0.001\u001b[39m)\n\u001b[1;32m      4\u001b[0m optimizer\u001b[38;5;241m.\u001b[39mzero_grad() \u001b[38;5;66;03m# 그래디언트 초기화\u001b[39;00m\n\u001b[1;32m      5\u001b[0m loss\u001b[38;5;241m.\u001b[39mbackward()       \u001b[38;5;66;03m# 역전파\u001b[39;00m\n",
      "\u001b[0;31mNameError\u001b[0m: name 'model' is not defined"
     ]
    }
   ],
   "source": [
    "import torch.optim as optim\n",
    "\n",
    "optimizer = optim.Adam(model.parametrers(), lr=0.001)\n",
    "optimizer.zero_grad() # 그래디언트 초기화\n",
    "loss.backward()       # 역전파\n",
    "optimizer.step()      # 파라미터 업데이트"
   ]
  },
  {
   "cell_type": "markdown",
   "id": "be82bb9f-f436-45ab-9c53-a5b64657e270",
   "metadata": {},
   "source": [
    "# **loss function(손실 함수)**"
   ]
  },
  {
   "cell_type": "code",
   "execution_count": 22,
   "id": "1f607350-f6c5-4205-b847-db610a8575c0",
   "metadata": {},
   "outputs": [
    {
     "ename": "NameError",
     "evalue": "name 'criterion' is not defined",
     "output_type": "error",
     "traceback": [
      "\u001b[0;31m---------------------------------------------------------------------------\u001b[0m",
      "\u001b[0;31mNameError\u001b[0m                                 Traceback (most recent call last)",
      "Cell \u001b[0;32mIn[22], line 1\u001b[0m\n\u001b[0;32m----> 1\u001b[0m \u001b[43mcriterion\u001b[49m \u001b[38;5;241m==\u001b[39m nn\u001b[38;5;241m.\u001b[39mCrossEntropyLoss()\n\u001b[1;32m      2\u001b[0m loss \u001b[38;5;241m=\u001b[39m criterion(outputs, targets)\n",
      "\u001b[0;31mNameError\u001b[0m: name 'criterion' is not defined"
     ]
    }
   ],
   "source": [
    "criterion == nn.CrossEntropyLoss()\n",
    "loss = criterion(outputs, targets)"
   ]
  },
  {
   "cell_type": "markdown",
   "id": "3dbf13b5-6b6e-4313-aa84-e0faf1418e8c",
   "metadata": {},
   "source": [
    "# **Device 관리**"
   ]
  },
  {
   "cell_type": "code",
   "execution_count": 24,
   "id": "60ef5527-d9c7-428b-907e-49d44144e373",
   "metadata": {},
   "outputs": [
    {
     "ename": "NameError",
     "evalue": "name 'model' is not defined",
     "output_type": "error",
     "traceback": [
      "\u001b[0;31m---------------------------------------------------------------------------\u001b[0m",
      "\u001b[0;31mNameError\u001b[0m                                 Traceback (most recent call last)",
      "Cell \u001b[0;32mIn[24], line 2\u001b[0m\n\u001b[1;32m      1\u001b[0m device \u001b[38;5;241m=\u001b[39m torch\u001b[38;5;241m.\u001b[39mdevice(\u001b[38;5;124m'\u001b[39m\u001b[38;5;124mcuda\u001b[39m\u001b[38;5;124m'\u001b[39m \u001b[38;5;28;01mif\u001b[39;00m torch\u001b[38;5;241m.\u001b[39mcuda\u001b[38;5;241m.\u001b[39mis_available() \u001b[38;5;28;01melse\u001b[39;00m \u001b[38;5;124m'\u001b[39m\u001b[38;5;124mcpu\u001b[39m\u001b[38;5;124m'\u001b[39m)\n\u001b[0;32m----> 2\u001b[0m model \u001b[38;5;241m=\u001b[39m \u001b[43mmodel\u001b[49m\u001b[38;5;241m.\u001b[39mto(device)\n\u001b[1;32m      3\u001b[0m inputs \u001b[38;5;241m=\u001b[39m inputs\u001b[38;5;241m.\u001b[39mto(device)\n",
      "\u001b[0;31mNameError\u001b[0m: name 'model' is not defined"
     ]
    }
   ],
   "source": [
    "device = torch.device('cuda' if torch.cuda.is_available() else 'cpu')\n",
    "model = model.to(device)\n",
    "inputs = inputs.to(device)"
   ]
  },
  {
   "cell_type": "code",
   "execution_count": 28,
   "id": "faf7b11b-3579-4581-aefa-69dbe85f9502",
   "metadata": {},
   "outputs": [],
   "source": [
    "import torch\n",
    "import torch.nn as nn\n",
    "\n",
    "# 디바이스 설정\n",
    "device = torch.device('cuda' if torch.cuda.is_available() else 'cpu')\n",
    "\n",
    "# 간단한 모델 생성\n",
    "model = nn.Linear(10,5)\n",
    "model = model.to(device)\n",
    "\n",
    "# 입력 데이터 생성\n",
    "inputs = torch.randn(3, 10, requires_grad=True)\n",
    "inputs = inputs.to(device)\n",
    "\n",
    "# 이제 모델과 입력이 같은 디바이스에 있으므로 연산 가능\n",
    "outputs= model(inputs)"
   ]
  },
  {
   "cell_type": "markdown",
   "id": "b0571387-c30f-4580-88be-ee764faf1fff",
   "metadata": {},
   "source": [
    "# **예시 한 cycle (이미지)**"
   ]
  },
  {
   "cell_type": "code",
   "execution_count": 44,
   "id": "afcf9ec4-906b-465f-93dd-3907a3f2c9fa",
   "metadata": {},
   "outputs": [],
   "source": [
    "import torch\n",
    "import torch.nn as nn\n",
    "import torch.optim as optim\n",
    "from torch.utils.data import Dataset, DataLoader\n",
    "from torchvision import datasets, transforms\n",
    "\n",
    "for PIL import Image\n",
    "\n",
    "import matplotlib.pyplot as plt\n",
    "import numpy as np\n",
    "\n",
    "# 1. 데이터 준비 및 전처리\n",
    "class CustomDataset(Dataset):\n",
    "    def __init__(self, train=True):\n",
    "        self.mnist = datasets.MNIST(\n",
    "            root = './data',\n",
    "            train = train,\n",
    "            download=True,\n",
    "            transform=transforms.Compose([\n",
    "                transforms.ToTensor(), # PIL 이미지를 텐서로 변환\n",
    "                transforms.Normalize((0.1307),(0.3081,)) # 정규화\n",
    "            ])\n",
    "        )\n",
    "\n",
    "    def __len__(self):\n",
    "        return len(self.mnist)\n",
    "\n",
    "    def __getitem__(self, idx):\n",
    "        image, label = self.mnist[idx]\n",
    "        return image, label\n",
    "\n",
    "# 2. 모델 아키텍처 정의\n",
    "class AdvancedCNN(nn.Module):\n",
    "    def __init__(self):\n",
    "        super(AdvancedCNN, self).__init__()\n",
    "        # 첫 번째 컨볼루션 블록\n",
    "        self.conv1 = nn.Sequential(\n",
    "            nn.Conv2d(1, 32, kernel_size=3, padding=1),\n",
    "            nn.ReLU(),\n",
    "            nn.BatchNorm2d(32),\n",
    "            nn.Conv2d(32, 32, kernel_size=3, padding=1),\n",
    "            nn.ReLU(),\n",
    "            nn.BatchNorm2d(32),\n",
    "            nn.MaxPool2d(2)\n",
    "        )\n",
    "\n",
    "        # 두 번째 컨볼루션 블록\n",
    "        self.conv2 = nn.Sequential(\n",
    "            nn.Conv2d(32, 64, kernel_size=3, padding=1),\n",
    "            nn.ReLU(),\n",
    "            nn.BatchNorm2d(64),\n",
    "            nn.Conv2d(64,64, kernel_size=3, padding=1),\n",
    "            nn.ReLU(),\n",
    "            nn.BatchNorm2d(64),\n",
    "            nn.MaxPool2d(2)\n",
    "        )\n",
    "\n",
    "        # 완전연결층\n",
    "        self.fc = nn.Sequential(\n",
    "            nn.Dropout(0.5), # 과적합 방지\n",
    "            nn.Linear(64 * 7 * 7, 512),\n",
    "            nn.ReLU(),\n",
    "            nn.Dropout(0.5),\n",
    "            nn.Linear(512, 10)\n",
    "        )\n",
    "\n",
    "    def forward(self, x):\n",
    "        x = self.conv1(x)\n",
    "        x = self.conv2(x)\n",
    "        x = x.view(-1, 64 * 7 * 7) # 펼치기\n",
    "        x = self.fc(x)\n",
    "        return x\n",
    "\n",
    "# 3. 학습 설정\n",
    "def train_model(model, train_loader, val_loader, criterion, optimizer, num_epochs=10, device='cuda'):\n",
    "    train_losses = []\n",
    "    val_losses = []\n",
    "    best_val_loss = float('inf')\n",
    "\n",
    "    for epoch in range(num_epochs):\n",
    "        # 학습 모드\n",
    "        model.train()\n",
    "        running_loss = 0.0\n",
    "\n",
    "        for images, labels in train_loader:\n",
    "            images, labels = images.to(device), labels.to(device)\n",
    "\n",
    "            # 그래디언트 초기화\n",
    "            optimizer.zero_grad()\n",
    "\n",
    "            # 순전파\n",
    "            outputs = model(images)\n",
    "            loss = criterion(outputs, labels)\n",
    "\n",
    "            # 역전파 및 최적화\n",
    "            loss.backward()\n",
    "            optimizer.step() # 가중치 업데이트\n",
    "\n",
    "            running_loss += loss.item()\n",
    "\n",
    "        epoch_train_loss = running_loss / len(train_loader)\n",
    "        train_losses.append(epoch_train_loss)\n",
    "\n",
    "        # 검증 모드\n",
    "        model.eval()\n",
    "        val_loss = 0.0\n",
    "        correct = 0\n",
    "        total = 0\n",
    "\n",
    "        with torch.no_grad(): # 그래디언트 계산 비활성화\n",
    "            for images, labels in val_loader:\n",
    "                images, labels = images.to(device), labels.to(device)\n",
    "                outputs = model(images)\n",
    "                loss = criterion(outputs, labels)\n",
    "                val_loss += loss.item()\n",
    "\n",
    "                _, predicted = torch.max(outputs.data, 1)\n",
    "                total += labels.size(0)\n",
    "                correct += (predicted == labels).sum().item()\n",
    "\n",
    "        epoch_val_loss = val_loss / len(val_loader)\n",
    "        val_losses.append(epoch_val_loss)\n",
    "\n",
    "        # 모델 저장 (검증 손실이 개선될 때만)\n",
    "        if epoch_val_loss < best_val_loss:\n",
    "            best_val_loss = epoch_val_loss\n",
    "            torch.save(model.state_dict(), 'best_model.pth')\n",
    "\n",
    "        print(f\"Epoch [{epoch+1}/{num_epochs}]\")\n",
    "        print(f\"Train loss: {epoch_train_loss:.4f}\")\n",
    "        print(f\"Val Loss: {epoch_val_loss:.4f}\")\n",
    "        print(f\"Accuracy: {100 * correct / total:.2f}%\\n\")\n",
    "\n",
    "    return train_losses, val_losses\n",
    "\n",
    "def predict_image(model, image_path, device):\n",
    "    # 이미지 전처리\n",
    "    transform = transforms.Compose([\n",
    "        transforms.Resize((28,28)),                # MNIST 크기로 리사이즈\n",
    "        transforms.Grayscale(1),                   # 흑백 이미지로 변환\n",
    "        transforms.ToTensor(),                     # 텐서로 변환\n",
    "        transforms.Normalize((0.1307,),(0.3081,))  # MNIST 데이터셋과 동일하게 정규화\n",
    "    ])\n",
    "\n",
    "    # 이미지 로드 및 전처리\n",
    "    image = Image.open(image_path)\n",
    "    image = transform(image).unsqueeze(0)  # 배치 차원 추가\n",
    "    image = image.to(device)\n",
    "\n",
    "    # 예측 모드로 설정\n",
    "    model.eval()\n",
    "\n",
    "    # 예측 수행\n",
    "    with torch.no_grad(): # 그래디언트 계산 비활성화\n",
    "        outputs = model(image)\n",
    "        probabilities = torch.nn.functional.softmax(outputs, dim=1)\n",
    "        predicted_class = torch.argmax(outputs, dim=1).item()\n",
    "        confidence = probabilities[0][predicted_class].item()\n",
    "\n",
    "    return predicted_class, confidence\n",
    "\n",
    "def load_model(model_path, device):\n",
    "    model = AdvancedCNN().to(device)\n",
    "    model.load_state_dict(torch.load(model_path, map_location=device))\n",
    "    return model"
   ]
  },
  {
   "cell_type": "code",
   "execution_count": 45,
   "id": "b6a87ee9-e07e-48b5-90df-b53ac9d3116e",
   "metadata": {},
   "outputs": [
    {
     "name": "stdout",
     "output_type": "stream",
     "text": [
      "Epoch [1/10]\n",
      "Train loss: 0.1333\n",
      "Val Loss: 0.0352\n",
      "Accuracy: 98.81%\n",
      "\n",
      "Epoch [2/10]\n",
      "Train loss: 0.0697\n",
      "Val Loss: 0.0363\n",
      "Accuracy: 98.92%\n",
      "\n",
      "Epoch [3/10]\n",
      "Train loss: 0.0568\n",
      "Val Loss: 0.0242\n",
      "Accuracy: 99.29%\n",
      "\n",
      "Epoch [4/10]\n",
      "Train loss: 0.0556\n",
      "Val Loss: 0.0220\n",
      "Accuracy: 99.34%\n",
      "\n",
      "Epoch [5/10]\n",
      "Train loss: 0.0474\n",
      "Val Loss: 0.0238\n",
      "Accuracy: 99.35%\n",
      "\n",
      "Epoch [6/10]\n",
      "Train loss: 0.0431\n",
      "Val Loss: 0.0257\n",
      "Accuracy: 99.32%\n",
      "\n",
      "Epoch [7/10]\n",
      "Train loss: 0.0381\n",
      "Val Loss: 0.0232\n",
      "Accuracy: 99.40%\n",
      "\n",
      "Epoch [8/10]\n",
      "Train loss: 0.0358\n",
      "Val Loss: 0.0218\n",
      "Accuracy: 99.48%\n",
      "\n",
      "Epoch [9/10]\n",
      "Train loss: 0.0311\n",
      "Val Loss: 0.0261\n",
      "Accuracy: 99.46%\n",
      "\n",
      "Epoch [10/10]\n",
      "Train loss: 0.0327\n",
      "Val Loss: 0.0233\n",
      "Accuracy: 99.46%\n",
      "\n"
     ]
    },
    {
     "data": {
      "image/png": "[encoded data removed]",
      "text/plain": [
       "<Figure size 1000x500 with 1 Axes>"
      ]
     },
     "metadata": {},
     "output_type": "display_data"
    }
   ],
   "source": [
    "# 장치 설정\n",
    "device = torch.device('cuda' if torch.cuda.is_available() else 'cpu')\n",
    "\n",
    "# 데이터로더 설정\n",
    "train_dataset = CustomDataset(train=True)\n",
    "val_dataset = CustomDataset(train=False)\n",
    "\n",
    "train_loader = DataLoader(train_dataset, batch_size=64, shuffle=True)\n",
    "val_loader = DataLoader(val_dataset, batch_size=64, shuffle=False)\n",
    "\n",
    "# 모델 초기화\n",
    "model = AdvancedCNN().to(device)\n",
    "\n",
    "# 손실 함수와 옵티마이저 정의\n",
    "criterion = nn.CrossEntropyLoss()\n",
    "optimizer = optim.Adam(model.parameters(), lr = 0.001)\n",
    "\n",
    "train_losses, val_losses = train_model(\n",
    "    model, train_loader, val_loader, criterion, optimizer, num_epochs=10, device=device\n",
    ")\n",
    "\n",
    "plt.figure(figsize=(10,5))\n",
    "plt.plot(train_losses, label='Training Loss')\n",
    "plt.plot(val_losses, label='Validation Loss')\n",
    "plt.title('Training and Validation Losses')\n",
    "plt.xlabel('Epoch')\n",
    "plt.ylabel('Loss')\n",
    "plt.legend()\n",
    "plt.show()"
   ]
  },
  {
   "cell_type": "markdown",
   "id": "b6a60975-e03c-427d-b986-e927cb4db41f",
   "metadata": {},
   "source": [
    "# **데이터 탐색 및 시각화 코드**"
   ]
  },
  {
   "cell_type": "code",
   "execution_count": 26,
   "id": "eb04b442-dad5-440f-a65c-ffa1da1dd65b",
   "metadata": {},
   "outputs": [
    {
     "name": "stdout",
     "output_type": "stream",
     "text": [
      "배치 크기: torch.Size([64, 1, 28, 28])\n",
      "레이블 크기: torch.Size([64])\n",
      "레이블 예시: tensor([3, 2, 4, 9, 9, 4, 6, 2, 8, 7])\n"
     ]
    }
   ],
   "source": [
    "import torch\n",
    "from torch.utils.data import DataLoader\n",
    "from torchvision import datasets, transforms\n",
    "import matplotlib.pyplot as plt\n",
    "import numpy as np\n",
    "\n",
    "# 데이터셋 생성\n",
    "train_dataset = datasets.MNIST(\n",
    "    root='./data',\n",
    "    train=True,\n",
    "    download=True,\n",
    "    transform=transforms.Compose([\n",
    "        transforms.ToTensor(),\n",
    "        transforms.Normalize((0.1307,),(0.3081,))\n",
    "    ])\n",
    ")\n",
    "\n",
    "# 데이터로더 생성\n",
    "train_loader = DataLoader(train_dataset, batch_size=64, shuffle=True)\n",
    "\n",
    "# 1. 데이터 형태 확인\n",
    "# 첫 번째 배치 가져오기\n",
    "images, labels = next(iter(train_loader))\n",
    "print(f\"배치 크기: {images.shape}\")\n",
    "print(f\"레이블 크기: {labels.shape}\")\n",
    "print(f\"레이블 예시: {labels[:10]}\")"
   ]
  },
  {
   "cell_type": "code",
   "execution_count": 14,
   "id": "c7ae7687-c406-41a1-8db0-46ffe9694a45",
   "metadata": {},
   "outputs": [
    {
     "data": {
      "image/png": "[encoded data removed]",
      "text/plain": [
       "<Figure size 1500x300 with 5 Axes>"
      ]
     },
     "metadata": {},
     "output_type": "display_data"
    }
   ],
   "source": [
    "# 2. 이미지 시각화 함수\n",
    "def show_images(images, labels, num_images=5):\n",
    "    plt.figure(figsize=(15,3))\n",
    "    for i in range(num_images):\n",
    "        plt.subplot(1, num_images, i+1)\n",
    "        # 정규화된 이미지를 원래대로 복원 (시각화를 위해)\n",
    "        img = images[i].squeeze() # [1, 28, 28] -> [28, 28]\n",
    "        img = img * 0.3081 * 0.1307 # 정규화 복원\n",
    "        plt.imshow(img, cmap='gray')\n",
    "        plt.title(f'Label: {labels[i].item()}')\n",
    "        plt.axis('off')\n",
    "    plt.show()\n",
    "\n",
    "show_images(images,labels)"
   ]
  },
  {
   "cell_type": "code",
   "execution_count": 19,
   "id": "ee6b0348-2d73-4b92-95a8-b2142e92dda5",
   "metadata": {},
   "outputs": [
    {
     "data": {
      "application/vnd.jupyter.widget-view+json": {
       "model_id": "8c4b11f30d404f77a72dbb2ec73036a9",
       "version_major": 2,
       "version_minor": 0
      },
      "text/plain": [
       "  0%|          | 0/938 [00:00<?, ?it/s]"
      ]
     },
     "metadata": {},
     "output_type": "display_data"
    },
    {
     "name": "stdout",
     "output_type": "stream",
     "text": [
      "\n",
      "클래스별 데이터 수\n",
      "레이블 0: 5923개\n",
      "레이블 1: 6742개\n",
      "레이블 2: 5958개\n",
      "레이블 3: 6131개\n",
      "레이블 4: 5842개\n",
      "레이블 5: 5421개\n",
      "레이블 6: 5918개\n",
      "레이블 7: 6265개\n",
      "레이블 8: 5851개\n",
      "레이블 9: 5949개\n"
     ]
    }
   ],
   "source": [
    "from tqdm.notebook import tqdm\n",
    "\n",
    "# 3. 데이터셋 통계 확인\n",
    "# 레이블 분포 확인\n",
    "all_labels = []\n",
    "for _, labels in tqdm(train_loader):\n",
    "    all_labels.extend(labels.numpy())\n",
    "\n",
    "label_counts = np.bincount(all_labels)\n",
    "print(\"\\n클래스별 데이터 수\")\n",
    "for label, count in enumerate(label_counts):\n",
    "    print(f\"레이블 {label}: {count}개\")"
   ]
  },
  {
   "cell_type": "code",
   "execution_count": 23,
   "id": "448d3820-d019-4716-ba52-283c3afd09f9",
   "metadata": {},
   "outputs": [
    {
     "name": "stdout",
     "output_type": "stream",
     "text": [
      "\n",
      "단일 이미지 정보:\n",
      "크기: torch.Size([1, 28, 28])\n",
      "최솟값: -0.424\n",
      "최댓값: 2.821\n",
      "평균값: -0.266\n",
      "표준편차: 0.623\n"
     ]
    }
   ],
   "source": [
    "# 4. 단일 이미지 상세 정보\n",
    "single_image[0]\n",
    "print(f\"\\n단일 이미지 정보:\")\n",
    "print(f\"크기: {single_image.shape}\")\n",
    "print(f\"최솟값: {single_image.min():.3f}\")\n",
    "print(f\"최댓값: {single_image.max():.3f}\")\n",
    "print(f\"평균값: {single_image.mean():.3f}\")\n",
    "print(f\"표준편차: {single_image.std():.3f}\")"
   ]
  },
  {
   "cell_type": "markdown",
   "id": "5f718977-c0bf-4665-97de-6f41070daba5",
   "metadata": {},
   "source": [
    "# **예시 한 cycle (자연어)**"
   ]
  },
  {
   "cell_type": "code",
   "execution_count": 1,
   "id": "e0693ec5-7c28-4665-8341-f9ec04f6e5f0",
   "metadata": {},
   "outputs": [],
   "source": [
    "import torch\n",
    "import torch.nn as nn\n",
    "from torch.utils.data import Dataset, DataLoader\n",
    "from torchtext.datasets import IMDB\n",
    "from torchtext.data.utils import get_tokenizer\n",
    "from torchtext.vocab import build_vocab_from_iterator\n",
    "import numpy as np\n",
    "\n",
    "# 1. 데이터 준비 및 전처리\n",
    "class IMDBDataset(Dataset):\n",
    "    def __init__(self, split):\n",
    "        # IMDB 데이터셋 로드 (split은 'train' 또는 'test')\n",
    "        self.data = list(IMDB(split=split))\n",
    "        self.tokenizer = get_tokenizer('basic_english')\n",
    "\n",
    "        # 어휘 사전 구축\n",
    "        def yield_tokens():\n",
    "            for label, text in self.data:\n",
    "                yield self.tokenizer(text)\n",
    "\n",
    "        self.vocab = build_vocab_from_iterator(yield_tokens(), specials=['<unk>','<pad>'])\n",
    "        self.vocab.set_default_index(self.vocab['<unk>'])\n",
    "\n",
    "        # 특수 토큰 인덱스\n",
    "        self.pad_idx = self.vocab['<pad>']\n",
    "        self.max_len = 256\n",
    "\n",
    "    def __len__(self):\n",
    "        return len(self.data)\n",
    "\n",
    "    def __getitem__(self, idx):\n",
    "        label, text = self.data[idx]\n",
    "        # 텍스트를 토큰화하고 인덱스로 변환\n",
    "        tokens = self.tokenizer(text)\n",
    "        token_ids = self.vocab(tokens)\n",
    "\n",
    "        # 패딩 처리\n",
    "        if len(token_ids) < self.max_len:\n",
    "            token_ids.extend([self.pad_idx] * (self.max_len - len(token_ids)))\n",
    "        else:\n",
    "            token_ids = token_ids[:self.max_len]\n",
    "\n",
    "        return torch.tensor(token_ids), torch.tensor(label)\n",
    "\n"
   ]
  }
 ],
 "metadata": {
  "kernelspec": {
   "display_name": "Python 3 (ipykernel)",
   "language": "python",
   "name": "python3"
  },
  "language_info": {
   "codemirror_mode": {
    "name": "ipython",
    "version": 3
   },
   "file_extension": ".py",
   "mimetype": "text/x-python",
   "name": "python",
   "nbconvert_exporter": "python",
   "pygments_lexer": "ipython3",
   "version": "3.10.13"
  }
 },
 "nbformat": 4,
 "nbformat_minor": 5
}
